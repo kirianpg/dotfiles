{
  "cells": [
    {
      "cell_type": "markdown",
      "metadata": {
        "id": "b0J0QUovUJYx"
      },
      "source": [
        "# Fundamentals of Deep Learning -  Playground"
      ]
    },
    {
      "cell_type": "markdown",
      "metadata": {
        "id": "TyP6ZIUqUJYy"
      },
      "source": [
        "🧠 Welcome to this module of Deep Learning!\n",
        "\n",
        "🎯 In this challenge, our goal is two-fold:\n",
        "1. Get a visual representation of Neural Networks\n",
        "2. Build a better intuition of what Neural Networks are doing\n",
        "\n",
        "👉 We will use ***[Tensorflow Playground](https://playground.tensorflow.org/)***\n",
        "\n",
        "_(This first challenge does not require much coding_)"
      ]
    },
    {
      "cell_type": "markdown",
      "metadata": {
        "id": "ZOXW2fP3UJYy"
      },
      "source": [
        "## Classification in Deep Learning"
      ]
    },
    {
      "cell_type": "markdown",
      "metadata": {
        "id": "y_EemmjLUJYy"
      },
      "source": [
        "### (1) The data"
      ]
    },
    {
      "cell_type": "markdown",
      "metadata": {
        "id": "uu36FDRGUJYy"
      },
      "source": [
        "❓ Let's go to the [Playground](https://playground.tensorflow.org/#activation=tanh&batchSize=10&dataset=spiral&regDataset=reg-plane&learningRate=0.03&regularizationRate=0&noise=0&networkShape=2&seed=0.23545&showTestData=false&discretize=false&percTrainData=70&x=true&y=true&xTimesY=false&xSquared=false&ySquared=false&cosX=false&sinX=false&cosY=false&sinY=false&collectStats=false&problem=classification&initZero=false&hideText=false&regularization_hide=true&showTestData_hide=false&stepButton_hide=false&activation_hide=false&problem_hide=false&batchSize_hide=true&dataset_hide=false&resetButton_hide=false&discretize_hide=false&playButton_hide=false&learningRate_hide=true&regularizationRate_hide=true&percTrainData_hide=false&numHiddenLayers_hide=false) and select the following type of data ❓\n",
        "\n",
        "- A classification problem\n",
        "- The circle dataset (<span style=\"color:blue\">blue dots</span> inside a circle of <span style=\"color:orange\">orange dots</span>)\n",
        "- Ratio of training to test data : $ 70 \\% $\n",
        "- No noise ($ = 0$)\n",
        "- Do not show test data (right panel)\n",
        "- Do not discretize the output\n",
        "- Activation function: ***ReLU***\n",
        "\n",
        "<details>\n",
        "    <summary><i> Why Relu? </i></summary>\n",
        "        \n",
        "💡 In general, try it by default. It appears to work better for many problems!\n",
        "    \n",
        "_Note: Playground only allows you to select **one** activation function that is used for **all** of the **hidden** layers_\n",
        "\n",
        "</details>"
      ]
    },
    {
      "cell_type": "markdown",
      "metadata": {
        "id": "z3q426KnUJYz"
      },
      "source": [
        "### (2) The features"
      ]
    },
    {
      "cell_type": "markdown",
      "metadata": {
        "id": "6xtE_izSUJYz"
      },
      "source": [
        "❓ <u>Questions about the features</u> ❓\n",
        "\n",
        "1. Select only the features $X_1$ and $X_2$ (_unselect the other features if necessary_)\n",
        "2. If you were using the other variables such as $X_1^{2}$, $X_2^{2}$, $X_1 X_2$, $sin(X_1)$ and $sin(X_2)$, what type of classic Machine Learning operation does it correspond to?"
      ]
    },
    {
      "cell_type": "markdown",
      "metadata": {
        "tags": [
          "challengify"
        ],
        "id": "nPs37ygdUJYz"
      },
      "source": [
        "> It corresponds to feature engineering"
      ]
    },
    {
      "cell_type": "markdown",
      "metadata": {
        "id": "dIipDLqQUJYz"
      },
      "source": [
        "<details>\n",
        "    <summary><i>Answer</i></summary>\n",
        "\n",
        "* It corresponds to some type of ***feature engineering*** where you transform them.\n",
        "    * <i>Examples: multiplication, sinus, square, ...</i>\n",
        "* Here, in this exercise but also tomorrow, we will only use the raw input features $X_1$ and $X_2$.\n",
        "</details>\n",
        "\n"
      ]
    },
    {
      "cell_type": "markdown",
      "metadata": {
        "id": "5l38EStAUJYz"
      },
      "source": [
        "### (3) Building and Fitting a Neural Network in ***Playground***"
      ]
    },
    {
      "cell_type": "markdown",
      "metadata": {
        "id": "-nCeqoWqUJYz"
      },
      "source": [
        "❓ <u>Questions about Neural Networks</u> ❓\n",
        "\n",
        "* 🧠 Build a model with the following architecture:\n",
        "    - three hidden layers\n",
        "    - 5 neurons on the first hidden layer\n",
        "    - 4 neurons on the second hidden layer\n",
        "    - 3 neurons on the last hidden layer\n",
        "    - In ***Playground***, the output layer is not represented:\n",
        "        - For such binary classification task, keep in mind that it will automatically be a dense layer with 1 neuron activated by the sigmoid function $ \\large \\phi(z) = \\frac{1}{1 + e^{-z}} $\n",
        "\n",
        "* 💪 ***Fit it and stop the iterations when the loss function has stabilized.***\n",
        "\n",
        "* 👀 Observe carefully:\n",
        "    - Look at the individual neurons and try to understand what each neuron has specialized for during the _.fit()_\n",
        "    - What do you think about the overall shape your results? Re-run the neural network with different activation functions to compare. Can you make it work with \"Linear\"?"
      ]
    },
    {
      "cell_type": "markdown",
      "metadata": {
        "id": "dqHlcj7rUJYz"
      },
      "source": [
        "# <details>\n",
        "    <summary>Answer: some insights about the activation functions</summary>\n",
        "\n",
        "- Results may look like a hexagon because ReLu is piece-wise linear!\n",
        "- A non-linearly separable problem cannot be fitted with a linear activation such as **Linear**\n",
        "- Surprisingly, a piece-wise linear activation function such as **ReLu** (or **LeakyReLu**) fits this non-linearly separable problem well (even if that is not always true)\n",
        "- The `tanh` activation gives a \"smoother\" decision boundary\n",
        "- The **sigmoid** does **not** seem to work well here (i.e. it takes __many__ epochs before it can classify effectively)\n",
        "    \n",
        "🧑🏻‍🏫 Always start with ReLu, it's a safe bet 🧑🏻‍🏫!\n",
        "</details>\n",
        "\n"
      ]
    },
    {
      "cell_type": "markdown",
      "metadata": {
        "id": "PTcz3VW9UJY0"
      },
      "source": [
        "### (4) Building and Fitting a Neural Network in ***Tensorflow.Keras***"
      ]
    },
    {
      "cell_type": "markdown",
      "metadata": {
        "id": "3pupxv_nUJY0"
      },
      "source": [
        "👇 We wrote the same model for you - at least the architecture - in Tensorflow's Keras"
      ]
    },
    {
      "cell_type": "code",
      "execution_count": 2,
      "metadata": {
        "id": "jiKF4H3LUJY0"
      },
      "outputs": [],
      "source": [
        "from tensorflow.keras import models\n",
        "from tensorflow.keras import layers\n",
        "\n",
        "model = models.Sequential()\n",
        "\n",
        "model.add(layers.Dense(5, activation='relu', input_dim=2)) # 1st hidden layer with 5 neurons\n",
        "model.add(layers.Dense(4, activation='relu')) # 2nd hidden layer with 4 neurons\n",
        "model.add(layers.Dense(3, activation='relu')) # 3rd hidden layer with 3 neurons\n",
        "\n",
        "\n",
        "\n",
        "model.add(layers.Dense(1, activation='sigmoid')) # Output layer that outputs a probability of belonging\n",
        "                                                 # to the class of \"success\""
      ]
    },
    {
      "cell_type": "code",
      "source": [
        "model.summary()"
      ],
      "metadata": {
        "colab": {
          "base_uri": "https://localhost:8080/"
        },
        "id": "Y7xv2C-3VqgQ",
        "outputId": "3b09fbc6-a919-4ea6-ee36-d90a19b2dc06"
      },
      "execution_count": 3,
      "outputs": [
        {
          "output_type": "stream",
          "name": "stdout",
          "text": [
            "Model: \"sequential_1\"\n",
            "_________________________________________________________________\n",
            " Layer (type)                Output Shape              Param #   \n",
            "=================================================================\n",
            " dense_4 (Dense)             (None, 5)                 15        \n",
            "                                                                 \n",
            " dense_5 (Dense)             (None, 4)                 24        \n",
            "                                                                 \n",
            " dense_6 (Dense)             (None, 3)                 15        \n",
            "                                                                 \n",
            " dense_7 (Dense)             (None, 1)                 4         \n",
            "                                                                 \n",
            "=================================================================\n",
            "Total params: 58 (232.00 Byte)\n",
            "Trainable params: 58 (232.00 Byte)\n",
            "Non-trainable params: 0 (0.00 Byte)\n",
            "_________________________________________________________________\n"
          ]
        }
      ]
    },
    {
      "cell_type": "markdown",
      "metadata": {
        "id": "GvGsX5DZUJY0"
      },
      "source": [
        "<details>\n",
        "    <summary><i>What to understand about the code of a Neural Network? </i>👆</summary>\n",
        "\n",
        "- <u>First Hidden Layer a.k.a ***Input Layer***</u>:\n",
        "    - Every datapoint that will be input to the neural network has two features $ X = \\begin{bmatrix}\n",
        "           X_{1} \\\\\n",
        "           X_{2} \\\\\n",
        "         \\end{bmatrix} $.\n",
        "    - You need to inform your Neural Network about the ***number of input features*** through the ***`input_dim` argument***\n",
        "    - A Neural Network tries to mimic the human brain. Here we would like to use 5 neurons to start analyzing each of these points.\n",
        "    \n",
        "    - Every datapoint goes through the first hidden layer which was built using 5 neurons $ layer_1 = \\begin{bmatrix}\n",
        "           a_{1} \\\\\n",
        "           a_{2} \\\\\n",
        "           a_{3} \\\\\n",
        "           a_{4} \\\\\n",
        "           a_{5} \\\\           \n",
        "         \\end{bmatrix} $\n",
        "    \n",
        " - <u>Second Hidden Layer</u>:\n",
        "         \n",
        "    - What if we want to ***make the information flow*** through a second hidden layer with 4 neurons? It is totally possible!\n",
        "    - These 4 neurons $ layer_2 = \\begin{bmatrix}\n",
        "           b_{1} \\\\\n",
        "           b_{2} \\\\\n",
        "           b_{3} \\\\\n",
        "           b_{4} \\\\\n",
        "         \\end{bmatrix} $ from the second layer will analyze the output from the 5 neurons in the first layer\n",
        "    \n",
        "- <u>Third Hidden Layer</u>:\n",
        "        - What if we want the information to **continue to flow** through a third hidden layer with 3 neurons? Again, totally possible!\n",
        "\n",
        "    - Every neuron's output from the second layer goes through the third hidden layer which was built using 3 neurons $ layer_3 = \\begin{bmatrix}\n",
        "           c_{1} \\\\\n",
        "           c_{2} \\\\\n",
        "           c_{3}\n",
        "         \\end{bmatrix} $\n",
        "         \n",
        "    - These 3 neurons analyze the outputs of the neurons in $ layer_2  $ !\n",
        "\n",
        "- <u>Predictive Layer</u>\n",
        "    - You are dealing with a binary classification task\n",
        "    - We could use two neurons to predict the probability of belonging to class A or class B...\n",
        "    - But one neuron predicting the probability of \"success\" is enough\n",
        "\n",
        "- <u>About activation functions</u>\n",
        "    - Despite its simplicity, the ***ReLU*** has proven to be very effective to add some non-linearity to the layers\n",
        "    - For the predictive layer, the best activation function to use for a classification task is the ***sigmoid*** function. That is something we've already discussed during Decision Science and Machine Learning.\n",
        "\n",
        "- <u>About the Sequential aspect of the Network</u>:\n",
        "    - The fact that you are defining a **Sequential** model has a consequence: each layer is aware of its input size based on the output size of the previous layer!\n",
        "    \n",
        "</details>"
      ]
    },
    {
      "cell_type": "markdown",
      "metadata": {
        "id": "N_8PxRUGUJY0"
      },
      "source": [
        "❓ How many parameters are involved in this small Neural Network ❓"
      ]
    },
    {
      "cell_type": "code",
      "execution_count": 4,
      "metadata": {
        "tags": [
          "challengify"
        ],
        "colab": {
          "base_uri": "https://localhost:8080/"
        },
        "id": "g_xSOGvYUJY1",
        "outputId": "ff68aa2e-e629-4028-82c5-1d2835943fd3"
      },
      "outputs": [
        {
          "output_type": "stream",
          "name": "stdout",
          "text": [
            "Model: \"sequential_1\"\n",
            "_________________________________________________________________\n",
            " Layer (type)                Output Shape              Param #   \n",
            "=================================================================\n",
            " dense_4 (Dense)             (None, 5)                 15        \n",
            "                                                                 \n",
            " dense_5 (Dense)             (None, 4)                 24        \n",
            "                                                                 \n",
            " dense_6 (Dense)             (None, 3)                 15        \n",
            "                                                                 \n",
            " dense_7 (Dense)             (None, 1)                 4         \n",
            "                                                                 \n",
            "=================================================================\n",
            "Total params: 58 (232.00 Byte)\n",
            "Trainable params: 58 (232.00 Byte)\n",
            "Non-trainable params: 0 (0.00 Byte)\n",
            "_________________________________________________________________\n"
          ]
        }
      ],
      "source": [
        "model.summary()"
      ]
    },
    {
      "cell_type": "markdown",
      "metadata": {
        "id": "2T184h6wUJY1"
      },
      "source": [
        "<details>\n",
        "    <summary><i>Hint</i></summary>\n",
        "\n",
        "✅ You should have 58 parameters\n",
        "    \n",
        "❌ If not, double-check your architecture    \n",
        "</details>"
      ]
    },
    {
      "cell_type": "markdown",
      "metadata": {
        "id": "fC-fD-unUJY1"
      },
      "source": [
        "### (5) The XOR Dataset"
      ]
    },
    {
      "cell_type": "markdown",
      "metadata": {
        "id": "S4xmAANTUJY1"
      },
      "source": [
        "❓ <u>Playing with the XOR Dataset</u> ❓\n",
        "\n",
        "* On Playground:\n",
        "    - Change the dataset to the \"XOR - Exclusive Or\".\n",
        "    - Try to design a model with two hidden layers that has a very small **test loss**\n",
        "        - Note: you are free to choose the number of neurons per layer yourself.  \n",
        "        \n",
        "* Coding with Tensorflow/Keras:\n",
        "    - Once you have built your model on Playground, code it down below with the Tensorflow/Keras library"
      ]
    },
    {
      "cell_type": "code",
      "execution_count": 7,
      "metadata": {
        "colab": {
          "base_uri": "https://localhost:8080/"
        },
        "id": "jlNWwGBsUJY1",
        "outputId": "bacc46cc-6bdb-46be-f3e0-147a1d314098"
      },
      "outputs": [
        {
          "output_type": "stream",
          "name": "stdout",
          "text": [
            "Model: \"sequential_4\"\n",
            "_________________________________________________________________\n",
            " Layer (type)                Output Shape              Param #   \n",
            "=================================================================\n",
            " dense_14 (Dense)            (None, 4)                 12        \n",
            "                                                                 \n",
            " dense_15 (Dense)            (None, 3)                 15        \n",
            "                                                                 \n",
            " dense_16 (Dense)            (None, 1)                 4         \n",
            "                                                                 \n",
            "=================================================================\n",
            "Total params: 31 (124.00 Byte)\n",
            "Trainable params: 31 (124.00 Byte)\n",
            "Non-trainable params: 0 (0.00 Byte)\n",
            "_________________________________________________________________\n"
          ]
        }
      ],
      "source": [
        "# Neural Network that can be well fitted to the XOR Dataset\n",
        "\n",
        "model = models.Sequential()\n",
        "\n",
        "model.add(layers.Dense(4, activation='relu', input_dim=2)) # 1st hidden layer with 4 neurons\n",
        "model.add(layers.Dense(3, activation='relu')) # 2nd hidden layer with 3 neurons\n",
        "\n",
        "\n",
        "\n",
        "\n",
        "model.add(layers.Dense(1, activation='sigmoid')) # Output layer that outputs a probability of belonging\n",
        "                                                 # to the class of \"success\"\n",
        "model.summary()"
      ]
    },
    {
      "cell_type": "markdown",
      "metadata": {
        "id": "5T0UL1u4UJY1"
      },
      "source": [
        "### (6) The Spiral Dataset"
      ]
    },
    {
      "cell_type": "markdown",
      "metadata": {
        "id": "pWgVHEkwUJY1"
      },
      "source": [
        "❓ <u>Playing with the Spiral Dataset</u> ❓\n",
        "\n",
        "* On Playground:\n",
        "    - Change the dataset to the \"Spiral\".\n",
        "    - Try to design a model with three hidden layers that has a very small **test loss**\n",
        "        - Note: you are free to choose the number of neurons per layer yourself.  \n",
        "        \n",
        "* Coding with Tensorflow/Keras:\n",
        "    - Once you have built your model on Playground, code it down  below with the Tensorflow/Keras library"
      ]
    },
    {
      "cell_type": "code",
      "execution_count": 10,
      "metadata": {
        "colab": {
          "base_uri": "https://localhost:8080/"
        },
        "id": "-3spuFHwUJY1",
        "outputId": "f69484ec-86c6-4d84-f39d-8abc5aa6c1fd"
      },
      "outputs": [
        {
          "output_type": "stream",
          "name": "stdout",
          "text": [
            "Model: \"sequential_7\"\n",
            "_________________________________________________________________\n",
            " Layer (type)                Output Shape              Param #   \n",
            "=================================================================\n",
            " dense_22 (Dense)            (None, 8)                 24        \n",
            "                                                                 \n",
            " dense_23 (Dense)            (None, 8)                 72        \n",
            "                                                                 \n",
            " dense_24 (Dense)            (None, 8)                 72        \n",
            "                                                                 \n",
            " dense_25 (Dense)            (None, 1)                 9         \n",
            "                                                                 \n",
            "=================================================================\n",
            "Total params: 177 (708.00 Byte)\n",
            "Trainable params: 177 (708.00 Byte)\n",
            "Non-trainable params: 0 (0.00 Byte)\n",
            "_________________________________________________________________\n"
          ]
        }
      ],
      "source": [
        "# Neural Network that can be well fitted to the Spiral Dataset\n",
        "\n",
        "model = models.Sequential()\n",
        "\n",
        "model.add(layers.Dense(8, activation ='relu', input_dim=2))\n",
        "model.add(layers.Dense(8, activation='relu'))\n",
        "model.add(layers.Dense(8, activation='relu'))\n",
        "model.add(layers.Dense(1, activation='sigmoid'))\n",
        "\n",
        "model.summary()\n"
      ]
    },
    {
      "cell_type": "markdown",
      "metadata": {
        "id": "ulmi0Eu3UJY1"
      },
      "source": [
        "### (7) How Deep should a Neural Network be ?"
      ]
    },
    {
      "cell_type": "markdown",
      "metadata": {
        "id": "ADRRXlPKUJY1"
      },
      "source": [
        "👀 If you compare the number of parameters needed to fit the Spiral Dataset vs. the XOR dataset, the former requires many more weights....\n",
        "\n",
        "😃 Actually, if your models are deep enough, you could potentially fit pretty much any pattern...\n",
        "\n",
        "---\n",
        "\n",
        "<details>\n",
        "    <summary><i>Should I create Very Deep Neural Networks? </i></summary>\n",
        "        \n",
        "<u>Examples:</u>\n",
        "    \n",
        "* Think about a human being. The more this person spends time coding in Python, the better he/she will get better at it!\n",
        "    \n",
        "* Think about a student. The more this person studies, the better he/she will pass exams. But sometimes students can study \"too much\" about a topic and forget about the global picture of a course....\n",
        "    \n",
        "<u>Lessons</u>\n",
        "    \n",
        "🧠 For Deep Learning Models, the more layers they have, the more opportunities they will have to learn the patterns in the data...\n",
        "\n",
        "❗️ The problem is about avoiding **overfitting** ❗️\n",
        "    \n",
        "☠️ Add a good deal of noise and you _may_ see that your model will have learned \"too much\" about this noise.\n",
        "  \n",
        "    \n",
        "📆 The next lecture **Deep Learning > Optimizers, Loss, & Fitting** is dedicated to helping you understand which techniques we can use to prevent Deep Learning models from overfitting.\n",
        "\n",
        "</details>\n",
        "\n",
        "---\n",
        "\n",
        "<details>\n",
        "    <summary><i>A picture of overfitting in Playground</i></summary>\n",
        "    \n",
        "<img src='https://wagon-public-datasets.s3.amazonaws.com/data-science-images/DL/playground-overfitting.png' width=700 style='margin:auto'>\n",
        "</details>\n",
        "\n",
        "---"
      ]
    },
    {
      "cell_type": "markdown",
      "metadata": {
        "id": "avZgdMzeUJY1"
      },
      "source": [
        "## Regression in Deep Learning"
      ]
    },
    {
      "cell_type": "markdown",
      "metadata": {
        "id": "-1t-ScHRUJY1"
      },
      "source": [
        "<u>Let's try to complete a Regression Task using Deep Learning</u>\n",
        "\n",
        "\n",
        "This time, the last layer will no longer look like:  \n",
        "```python\n",
        "model.add(layers.Dense(1, activation='sigmoid'))\n",
        "```\n",
        "\n",
        "but instead  :\n",
        "```python\n",
        "model.add(layers.Dense(1, activation='linear'))\n",
        "```\n",
        "\n",
        "This means that the output of this network is no longer between $0$ and $1$ (probability) but between $ -\\infty$ and $+ \\infty$."
      ]
    },
    {
      "cell_type": "markdown",
      "metadata": {
        "id": "ZxySvOyLUJY2"
      },
      "source": [
        "❓ <u>Playing with the Regression Dataset</u> ❓\n",
        "\n",
        "* On Playground:\n",
        "    - Change the dataset to the \"Regression\".\n",
        "    - Try to design a model that has a very small **test loss**\n",
        "        - Note: you are free to choose both the number of layers and the number of neurons per layer yourself\n",
        "        \n",
        "* Coding with Tensorflow/Keras:\n",
        "    - Once you have built your model on Playground, code it down  below with the Tensorflow/Keras library"
      ]
    },
    {
      "cell_type": "code",
      "execution_count": null,
      "metadata": {
        "id": "BdrCA5y1UJY2"
      },
      "outputs": [],
      "source": [
        "# Neural Network that can be well fitted to the Regression Dataset\n",
        "\n",
        "pass  # YOUR CODE HERE"
      ]
    },
    {
      "cell_type": "markdown",
      "metadata": {
        "id": "EbnNuFWKUJY2"
      },
      "source": [
        "🏁 You are now ready to do the same things with Tensorflow's Keras directly!\n",
        "\n",
        "💪 This was a Warm-Up about Neural Networks / Deep Learning Models... (even if, admittedly, our networks in this challenge were not so \"deep\").\n",
        "\n",
        "\n",
        "💾 Don't forget to `git add/commit/push` your notebook...\n",
        "\n",
        "🚀 ... and move on to the next challenge!"
      ]
    }
  ],
  "metadata": {
    "kernelspec": {
      "display_name": "Python 3",
      "language": "python",
      "name": "python3"
    },
    "colab": {
      "provenance": []
    }
  },
  "nbformat": 4,
  "nbformat_minor": 0
}